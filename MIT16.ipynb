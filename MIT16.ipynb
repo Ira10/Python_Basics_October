{
 "cells": [
  {
   "cell_type": "code",
   "execution_count": 6,
   "metadata": {},
   "outputs": [
    {
     "name": "stdout",
     "output_type": "stream",
     "text": [
      "34\n"
     ]
    }
   ],
   "source": [
    "def fib_recur(n):\n",
    "    if n == 1 or n == 2:\n",
    "        return 1\n",
    "    else:\n",
    "        return fib_recur(n-1)+fib_recur(n-2)\n",
    "\n",
    "print(fib_recur(9))"
   ]
  },
  {
   "cell_type": "code",
   "execution_count": 8,
   "metadata": {},
   "outputs": [
    {
     "name": "stdout",
     "output_type": "stream",
     "text": [
      "34\n"
     ]
    }
   ],
   "source": [
    "###############\n",
    "## Fibonacci with a dictionary \n",
    "\n",
    "def fib_efficient(n, d):\n",
    "    if n in d:\n",
    "        return d[n]\n",
    "    else:\n",
    "        ans = fib_efficient(n-1, d) + fib_efficient(n-2, d)\n",
    "        d[n] = ans\n",
    "        return ans\n",
    "\n",
    "d = {1:1, 2:1}\n",
    "print(fib_efficient(9, d))"
   ]
  },
  {
   "cell_type": "markdown",
   "metadata": {},
   "source": [
    " 1. Calling fib(34) results in 11,405,773 recursive calls to the\n",
    "procedure\n",
    "\n",
    "  2. Calling fib_efficient(34) results in 65 recursive calls to\n",
    "the procedure\n",
    "\n",
    "  3. Using dictionaries to capture intermediate results can be very\n",
    "efficient\n",
    "\n",
    "  4. But note that this only works for procedures without side\n",
    "effects (i.e., the procedure will always produce the same result\n",
    "for a specific argument independent of any other computations\n",
    "between calls)"
   ]
  },
  {
   "cell_type": "code",
   "execution_count": 14,
   "metadata": {},
   "outputs": [
    {
     "name": "stdout",
     "output_type": "stream",
     "text": [
      "125\n"
     ]
    }
   ],
   "source": [
    "def score_count(x):\n",
    "    \"\"\" Returns all the ways to make a score \n",
    "    of x by adding 1, 2, and/or 3 together. \n",
    "    Order doesn't matter. \"\"\"\n",
    "    if x == 1:\n",
    "        return 1  # 1+0\n",
    "    elif x == 2:\n",
    "        return 2  # 2+0 or 1+1\n",
    "    elif x == 3:\n",
    "        return 3  # 3+0 or 2+1 or 1+1+1\n",
    "    else:\n",
    "        # make a score of x-1 then add 1\n",
    "        # and make a score of x-2 then add 2\n",
    "        # and make a score of x-3 then add 3\n",
    "        return score_count(x-1)+score_count(x-2)+score_count(x-3)\n",
    "    \n",
    "# print(score_count(4))  # prints 6\n",
    "print(score_count(9))  # prints 20\n",
    "# print(score_count(87))  # prints 1431"
   ]
  },
  {
   "cell_type": "code",
   "execution_count": 13,
   "metadata": {},
   "outputs": [
    {
     "name": "stdout",
     "output_type": "stream",
     "text": [
      "125\n"
     ]
    }
   ],
   "source": [
    "def score_coun_(n, d):\n",
    "    if n in d:\n",
    "        return d[n]\n",
    "    else:\n",
    "        ans = score_coun_(n-1, d) + score_coun_(n-2, d) + score_coun_(n-3, d)\n",
    "        d[n] = ans\n",
    "        return ans\n",
    "\n",
    "d = {1:1, 2:2, 3:3}\n",
    "print(score_coun_(9, d))"
   ]
  }
 ],
 "metadata": {
  "kernelspec": {
   "display_name": "Python 3",
   "language": "python",
   "name": "python3"
  },
  "language_info": {
   "codemirror_mode": {
    "name": "ipython",
    "version": 3
   },
   "file_extension": ".py",
   "mimetype": "text/x-python",
   "name": "python",
   "nbconvert_exporter": "python",
   "pygments_lexer": "ipython3",
   "version": "3.9.6"
  }
 },
 "nbformat": 4,
 "nbformat_minor": 2
}
