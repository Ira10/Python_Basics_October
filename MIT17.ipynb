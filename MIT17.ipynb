{
 "cells": [
  {
   "cell_type": "markdown",
   "metadata": {},
   "source": [
    "### flatten a list containing sublists of ints"
   ]
  },
  {
   "cell_type": "code",
   "execution_count": 1,
   "metadata": {},
   "outputs": [
    {
     "name": "stdout",
     "output_type": "stream",
     "text": [
      "[1]\n",
      "[1, 2, 3, 4, 9, 8, 7]\n"
     ]
    }
   ],
   "source": [
    "def flatten(L):\n",
    "    \"\"\" \n",
    "    L is a list containing lists with integer elements\n",
    "    Returns a list containing elements that are the \n",
    "    integers in the sublists of L in the same order.\n",
    "    \"\"\"\n",
    "    if len(L) == 1:\n",
    "        return L[0]\n",
    "    else:\n",
    "        return L[0] + flatten(L[1:])\n",
    "    \n",
    "test = [[1]]\n",
    "print(flatten(test))\n",
    "\n",
    "test = [[1,2], [3,4], [9,8,7]]\n",
    "print(flatten(test))"
   ]
  },
  {
   "cell_type": "markdown",
   "metadata": {},
   "source": [
    "###  YOU TRY IT ##############\n"
   ]
  },
  {
   "cell_type": "markdown",
   "metadata": {},
   "source": [
    "Woahhh!!! this following code is better than MIT code."
   ]
  },
  {
   "cell_type": "code",
   "execution_count": 3,
   "metadata": {},
   "outputs": [
    {
     "name": "stdout",
     "output_type": "stream",
     "text": [
      "True\n",
      "False\n"
     ]
    }
   ],
   "source": [
    "def in_lists_of_list(L, e):\n",
    "    \"\"\"\n",
    "    L is a list whose elements are lists containing ints\n",
    "    Returns True if e is an element within the lists of L\n",
    "    and False otherwise. \n",
    "    Hint, the in operator is useful here, i.e. e in something\n",
    "    \"\"\"\n",
    "    # your code here\n",
    "\n",
    "    if len(L) == 1:\n",
    "        return e in L[0]     #### returns boolean\n",
    "    else:\n",
    "        return e in (L[0] + flatten(L[1:]))\n",
    "\n",
    "    \n",
    "\n",
    "test = [[1,2], [3,4], [5,6,7], [6,9,3]]\n",
    "print(in_lists_of_list(test, 3))  # prints True\n",
    "\n",
    "test = [[1,2], [3,4], [5,6,7]]\n",
    "print(in_lists_of_list(test, 0))  # prints False"
   ]
  },
  {
   "cell_type": "markdown",
   "metadata": {},
   "source": [
    "#### INTUITION for WHEN to use\n",
    "##### RECURSION\n",
    "\n",
    " Remember when we learned while loops?\n",
    "\n",
    " Remember when we tried to write a program that kept asking the user which way to go in the Lost Woods of Zelda?\n",
    "\n",
    " We did not know ahead of time how many times we needed to loop! (aka how many levels of if/else we needed)\n",
    "\n",
    " While loops kept iterating as long as some condition held true."
   ]
  },
  {
   "cell_type": "markdown",
   "metadata": {},
   "source": [
    "## Reverse a list's elements\n"
   ]
  },
  {
   "cell_type": "code",
   "execution_count": 4,
   "metadata": {},
   "outputs": [
    {
     "name": "stdout",
     "output_type": "stream",
     "text": [
      "['abc', 2, 1]\n",
      "[['e', ['f', 'g']], ['d'], 'abc']\n"
     ]
    }
   ],
   "source": [
    "def my_rev(L):\n",
    "    if len(L) == 1:\n",
    "        return L\n",
    "    else:\n",
    "        return my_rev(L[1:]) + [L[0]]\n",
    "    \n",
    "test = [1, 2, \"abc\"]\n",
    "print(my_rev(test))\n",
    "\n",
    "test = [\"abc\", ['d'], ['e', ['f', 'g']]]\n",
    "print(my_rev(test))\n"
   ]
  }
 ],
 "metadata": {
  "kernelspec": {
   "display_name": "Python 3",
   "language": "python",
   "name": "python3"
  },
  "language_info": {
   "codemirror_mode": {
    "name": "ipython",
    "version": 3
   },
   "file_extension": ".py",
   "mimetype": "text/x-python",
   "name": "python",
   "nbconvert_exporter": "python",
   "pygments_lexer": "ipython3",
   "version": "3.9.6"
  }
 },
 "nbformat": 4,
 "nbformat_minor": 2
}
