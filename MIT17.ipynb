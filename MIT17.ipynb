{
 "cells": [
  {
   "cell_type": "markdown",
   "metadata": {},
   "source": [
    "### flatten a list containing sublists of ints"
   ]
  },
  {
   "cell_type": "code",
   "execution_count": 1,
   "metadata": {},
   "outputs": [
    {
     "name": "stdout",
     "output_type": "stream",
     "text": [
      "[1]\n",
      "[1, 2, 3, 4, 9, 8, 7]\n"
     ]
    }
   ],
   "source": [
    "def flatten(L):\n",
    "    \"\"\" \n",
    "    L is a list containing lists with integer elements\n",
    "    Returns a list containing elements that are the \n",
    "    integers in the sublists of L in the same order.\n",
    "    \"\"\"\n",
    "    if len(L) == 1:\n",
    "        return L[0]\n",
    "    else:\n",
    "        return L[0] + flatten(L[1:])\n",
    "    \n",
    "test = [[1]]\n",
    "print(flatten(test))\n",
    "\n",
    "test = [[1,2], [3,4], [9,8,7]]\n",
    "print(flatten(test))"
   ]
  }
 ],
 "metadata": {
  "kernelspec": {
   "display_name": "Python 3",
   "language": "python",
   "name": "python3"
  },
  "language_info": {
   "codemirror_mode": {
    "name": "ipython",
    "version": 3
   },
   "file_extension": ".py",
   "mimetype": "text/x-python",
   "name": "python",
   "nbconvert_exporter": "python",
   "pygments_lexer": "ipython3",
   "version": "3.9.6"
  }
 },
 "nbformat": 4,
 "nbformat_minor": 2
}
